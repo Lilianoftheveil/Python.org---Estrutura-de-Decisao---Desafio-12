{
 "cells": [
  {
   "cell_type": "code",
   "execution_count": null,
   "id": "f704985c",
   "metadata": {},
   "outputs": [],
   "source": [
    "Python - Lista de Exercícios (Estrutura de Decisão) \n",
    "link: https://wiki.python.org.br/EstruturaDeDecisao"
   ]
  },
  {
   "cell_type": "markdown",
   "id": "c1424185",
   "metadata": {},
   "source": [
    "\"\"\"12) Faça um programa para o cálculo de uma folha de pagamento, sabendo que os descontos do Imposto de Renda, \n",
    "dependem do salário bruto (conforme tabela abaixo) e, os 3% do Sindicato e o FGTS que corresponde a 11% do Salário Bruto, \n",
    "não são descontados (é a empresa quem deposita). O Salário Líquido corresponde ao Salário Bruto menos os descontos. \n",
    "O programa deverá pedir ao usuário o valor da sua hora e a quantidade de horas trabalhadas no mês.\n",
    "\n",
    "Desconto do IR:\n",
    "\n",
    "Salário Bruto até 900 (inclusive) - isento\n",
    "\n",
    "Salário Bruto até 1500 (inclusive) - desconto de 5%\n",
    "\n",
    "Salário Bruto até 2500 (inclusive) - desconto de 10%\n",
    "\n",
    "Salário Bruto acima de 2500 - desconto de 20% \n",
    "\n",
    "Imprima na tela as informações.\"\"\""
   ]
  },
  {
   "cell_type": "code",
   "execution_count": null,
   "id": "6d7cf684",
   "metadata": {},
   "outputs": [],
   "source": [
    "Obs.: Visando desenvolver o programa de forma mais dinâmica e menos suscetível a erros, adicionei \n",
    "outras estruturas no corpo do código. De modo que apenas números sejam aceitos durante sua execução."
   ]
  },
  {
   "cell_type": "code",
   "execution_count": null,
   "id": "eb6d47b6",
   "metadata": {},
   "outputs": [],
   "source": [
    "while True:\n",
    "  a = input(\"Quanto você recebe por hora trabalhada? \")\n",
    "  b = input(\"Quantidade de horas trabalhadas no mês: \")\n",
    "  try:\n",
    "    float(a), float(b)\n",
    "    c = float(a) * float(b)\n",
    "    d = c\n",
    "\n",
    "    if d <= 900: \n",
    "      d = 0\n",
    "    elif d > 900 and d <= 1500:  \n",
    "      d = d * 0.05\n",
    "    elif d > 1500 and d <= 2500:\n",
    "      d = d * 0.10\n",
    "    elif d > 2500:\n",
    "      d = d * 0.20 \n",
    "\n",
    "    e = c * 0.03\n",
    "    f = c * 0.11\n",
    "    g = c * 0.10\n",
    "\n",
    "    print(f\"Salário Bruto: R$ {c}\")\n",
    "    print(f\"IR: R$ {d}\")\n",
    "    print(f\"Sindicato: {e}\")\n",
    "    print(f\"FGTS: {f}\")\n",
    "    print(f\"INSS: {g}\")\n",
    "    print(f\"Total de Descontos: {d + g}\")\n",
    "    print(f\"Salário Líquido: R$ {c - d - g}\")\n",
    "    break\n",
    "  except:\n",
    "    print(\"Por favor digite apenas números.\")\n",
    "    continue"
   ]
  }
 ],
 "metadata": {
  "kernelspec": {
   "display_name": "Python 3 (ipykernel)",
   "language": "python",
   "name": "python3"
  },
  "language_info": {
   "codemirror_mode": {
    "name": "ipython",
    "version": 3
   },
   "file_extension": ".py",
   "mimetype": "text/x-python",
   "name": "python",
   "nbconvert_exporter": "python",
   "pygments_lexer": "ipython3",
   "version": "3.8.10"
  }
 },
 "nbformat": 4,
 "nbformat_minor": 5
}
